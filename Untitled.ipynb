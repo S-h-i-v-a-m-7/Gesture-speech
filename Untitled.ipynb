{
 "cells": [
  {
   "cell_type": "code",
   "execution_count": 3,
   "id": "6ff8d7d9",
   "metadata": {},
   "outputs": [
    {
     "ename": "AttributeError",
     "evalue": "'Recognizer' object has no attribute 'Microphone'",
     "output_type": "error",
     "traceback": [
      "\u001b[1;31m---------------------------------------------------------------------------\u001b[0m",
      "\u001b[1;31mAttributeError\u001b[0m                            Traceback (most recent call last)",
      "\u001b[1;32m<ipython-input-3-c80a2d398a1b>\u001b[0m in \u001b[0;36m<module>\u001b[1;34m\u001b[0m\n\u001b[0;32m     11\u001b[0m \u001b[1;31m# listening the speech and store in audio_text variable\u001b[0m\u001b[1;33m\u001b[0m\u001b[1;33m\u001b[0m\u001b[1;33m\u001b[0m\u001b[0m\n\u001b[0;32m     12\u001b[0m \u001b[1;33m\u001b[0m\u001b[0m\n\u001b[1;32m---> 13\u001b[1;33m \u001b[1;32mwith\u001b[0m \u001b[0mr\u001b[0m\u001b[1;33m.\u001b[0m\u001b[0mMicrophone\u001b[0m\u001b[1;33m(\u001b[0m\u001b[1;33m)\u001b[0m \u001b[1;32mas\u001b[0m \u001b[0msource\u001b[0m\u001b[1;33m:\u001b[0m\u001b[1;33m\u001b[0m\u001b[1;33m\u001b[0m\u001b[0m\n\u001b[0m\u001b[0;32m     14\u001b[0m     \u001b[0mprint\u001b[0m\u001b[1;33m(\u001b[0m\u001b[1;34m'Turn on data traffic for accessing speech recogniser :)'\u001b[0m\u001b[1;33m)\u001b[0m\u001b[1;33m\u001b[0m\u001b[1;33m\u001b[0m\u001b[0m\n\u001b[0;32m     15\u001b[0m     \u001b[0mprint\u001b[0m\u001b[1;33m(\u001b[0m\u001b[1;34m\"Say Something\"\u001b[0m\u001b[1;33m)\u001b[0m\u001b[1;33m\u001b[0m\u001b[1;33m\u001b[0m\u001b[0m\n",
      "\u001b[1;31mAttributeError\u001b[0m: 'Recognizer' object has no attribute 'Microphone'"
     ]
    }
   ],
   "source": [
    "#import library\n",
    "import cv2\n",
    "import speech_recognition as r\n",
    "import os\n",
    "\n",
    "# Initialize recognizer class (for recognizing the speech)\n",
    "\n",
    "r = r.Recognizer()\n",
    "\n",
    "# Reading Microphone as source\n",
    "# listening the speech and store in audio_text variable\n",
    "\n",
    "with r.Microphone() as source:\n",
    "    print('Turn on data traffic for accessing speech recogniser :)')\n",
    "    print(\"Say Something\")\n",
    "\n",
    "    audio_text = r.listen(source)\n",
    "    print(\"Recognizing.....\")\n",
    "# recoginize_() method will throw a request error if the API is unreachable, hence using exception handling\n",
    "    \n",
    "    try:\n",
    "        text = r.recognize_google(audio_text)\n",
    "        print(\"Text:\"+text)\n",
    "    except:\n",
    "         print(\"Sorry, I did not get that, please try again\")\n",
    "\n",
    "for elem in text:\n",
    "    path = r'C:\\Users\\shiva\\Desktop\\Gesture-Speech\\images'\n",
    "    if elem ==' ':\n",
    "        full_path = os.path.join(path,'blank')+'.jpg'\n",
    "        print(full_path)\n",
    "        img = cv2.imread(full_path ,cv2.IMREAD_GRAYSCALE)\n",
    "        cv2.imshow('blank',img)\n",
    "        cv2.waitKey(1000)\n",
    "        cv2.destroyWindow('blank')\n",
    "    else:\n",
    "        full_path = os.path.join(path,elem)+'.jpg'\n",
    "        print(full_path)\n",
    "        img = cv2.imread(full_path ,cv2.IMREAD_GRAYSCALE)\n",
    "        cv2.imshow(elem,img)\n",
    "        cv2.waitKey(1000)\n",
    "        cv2.destroyWindow(elem)\n",
    "\n",
    "cv2.destroyAllWindows()"
   ]
  },
  {
   "cell_type": "code",
   "execution_count": null,
   "id": "7f4c8ac6",
   "metadata": {},
   "outputs": [],
   "source": []
  }
 ],
 "metadata": {
  "kernelspec": {
   "display_name": "Python 3",
   "language": "python",
   "name": "python3"
  },
  "language_info": {
   "codemirror_mode": {
    "name": "ipython",
    "version": 3
   },
   "file_extension": ".py",
   "mimetype": "text/x-python",
   "name": "python",
   "nbconvert_exporter": "python",
   "pygments_lexer": "ipython3",
   "version": "3.8.8"
  }
 },
 "nbformat": 4,
 "nbformat_minor": 5
}
